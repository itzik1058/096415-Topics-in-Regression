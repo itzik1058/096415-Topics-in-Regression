{
 "metadata": {
  "language_info": {
   "codemirror_mode": {
    "name": "ipython",
    "version": 3
   },
   "file_extension": ".py",
   "mimetype": "text/x-python",
   "name": "python",
   "nbconvert_exporter": "python",
   "pygments_lexer": "ipython3",
   "version": "3.7.3-final"
  },
  "orig_nbformat": 2,
  "kernelspec": {
   "name": "61aea987-a660-4ebc-8e88-cf5a77e22815",
   "display_name": "'Python Interactive'"
  }
 },
 "nbformat": 4,
 "nbformat_minor": 2,
 "cells": [
  {
   "cell_type": "code",
   "execution_count": 76,
   "metadata": {},
   "outputs": [],
   "source": [
    "import numpy as np\n",
    "import statsmodels.api as sm\n",
    "import seaborn as sn\n",
    "import pandas as pd"
   ]
  },
  {
   "source": [
    "# Question 5"
   ],
   "cell_type": "markdown",
   "metadata": {}
  },
  {
   "cell_type": "code",
   "execution_count": 77,
   "metadata": {},
   "outputs": [],
   "source": [
    "tips = sn.load_dataset('tips')\n",
    "y = tips[['tip']].to_numpy().flatten()\n",
    "n = len(tips)"
   ]
  },
  {
   "cell_type": "code",
   "execution_count": 78,
   "metadata": {},
   "outputs": [],
   "source": [
    "B = 1000\n",
    "\n",
    "def asymptotic_variance(model, x):\n",
    "    x = x.to_numpy()\n",
    "    x = np.c_[np.ones(n), x]\n",
    "    p = x.shape[1]\n",
    "    beta = np.linalg.inv(x.T @ x) @ x.T @ y\n",
    "    error = y - x @ beta\n",
    "    Q = x.T @ x / n\n",
    "    D = np.diag(np.square(error))\n",
    "    omega = x.T @ D @ x / n\n",
    "    Q_inv = np.linalg.inv(Q)\n",
    "    bootstrap = []\n",
    "    for b in range(B):\n",
    "        ind = np.random.choice(n, n)\n",
    "        beta = np.linalg.inv(x[ind].T @ x[ind]) @ x[ind].T @ y[ind]\n",
    "        bootstrap.append(beta[1])\n",
    "    standard_variance = (np.sum(np.square(error)) / (n - p) * Q_inv)[1, 1]\n",
    "    sandwich_variance = (Q_inv @ omega @ Q_inv)[1, 1]\n",
    "    bootstrap_variance = n * np.var(bootstrap)\n",
    "    print(model, standard_variance, sandwich_variance, bootstrap_variance)"
   ]
  },
  {
   "source": [
    "## Part A"
   ],
   "cell_type": "markdown",
   "metadata": {}
  },
  {
   "cell_type": "code",
   "execution_count": 79,
   "metadata": {},
   "outputs": [
    {
     "output_type": "stream",
     "name": "stdout",
     "text": [
      "Model 1 0.013234591602010525 0.033495741392720164 0.03239104327422023\nModel 2 1.6229909102427627 1.8860958926413873 1.934925970518304\n"
     ]
    }
   ],
   "source": [
    "x1 = tips[['total_bill']]\n",
    "x2 = tips[['size']]\n",
    "asymptotic_variance('Model 1', x1)\n",
    "asymptotic_variance('Model 2', x2)"
   ]
  },
  {
   "source": [
    "The sandwich and bootstrap estimators yield similar results while the standard estimator yields lower estimates for the two models."
   ],
   "cell_type": "markdown",
   "metadata": {}
  },
  {
   "source": [
    "## Part B"
   ],
   "cell_type": "markdown",
   "metadata": {}
  },
  {
   "cell_type": "code",
   "execution_count": 80,
   "metadata": {},
   "outputs": [
    {
     "output_type": "stream",
     "name": "stdout",
     "text": [
      "Model 3 9.421526454811827 7.980062876839264 8.50171228179498\n"
     ]
    }
   ],
   "source": [
    "x3 = (tips['time'] == 'Dinner')\n",
    "asymptotic_variance('Model 3', x3)"
   ]
  },
  {
   "source": [
    "In agreement with Part A, the sandwich and bootstrap yield similar results while the standard estimator yield a higher estimate.\n",
    "We cannot conclude whether the standard estimator underestimates or overestimates the asymptotic variance."
   ],
   "cell_type": "markdown",
   "metadata": {}
  }
 ]
}