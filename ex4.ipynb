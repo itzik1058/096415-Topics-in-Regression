{
 "metadata": {
  "language_info": {
   "codemirror_mode": {
    "name": "ipython",
    "version": 3
   },
   "file_extension": ".py",
   "mimetype": "text/x-python",
   "name": "python",
   "nbconvert_exporter": "python",
   "pygments_lexer": "ipython3",
   "version": "3.7.3-final"
  },
  "orig_nbformat": 2,
  "kernelspec": {
   "name": "python3",
   "display_name": "Python 3.7.3 64-bit",
   "metadata": {
    "interpreter": {
     "hash": "ae8abb109cfabdbbe97353ff4e2f19de49e078fc8e78e0a0da7073003fc7d8b7"
    }
   }
  }
 },
 "nbformat": 4,
 "nbformat_minor": 2,
 "cells": [
  {
   "cell_type": "code",
   "execution_count": 230,
   "metadata": {},
   "outputs": [],
   "source": [
    "import numpy as np\n",
    "from numpy.linalg import norm, inv\n",
    "from scipy.special import comb\n",
    "from scipy.spatial.distance import cosine"
   ]
  },
  {
   "cell_type": "code",
   "execution_count": 231,
   "metadata": {},
   "outputs": [],
   "source": [
    "def score(model, predicted_model):\n",
    "    model_mask = model != 0\n",
    "    predicted_model_mask = predicted_model != 0\n",
    "    dim_score = np.sum(model_mask) == np.sum(predicted_model_mask)\n",
    "    support_score = np.sum(model_mask * predicted_model_mask) >= np.sum(model_mask) - 3\n",
    "    similarity = cosine(X @ model, X @ predicted_model)\n",
    "    if np.isnan(similarity):\n",
    "        similarity = 0\n",
    "    estimation_score = similarity > 0.9\n",
    "    return {'Dimension': dim_score, 'Support': support_score, 'Estimation': estimation_score}\n",
    "\n",
    "def masked_lse(X, Y, mask):\n",
    "    X_ = X[:, mask]\n",
    "    beta_ = inv(X_.T @ X_) @ X_.T @ Y\n",
    "    beta = np.zeros(X.shape[1])\n",
    "    beta[mask] = beta_\n",
    "    return beta"
   ]
  },
  {
   "cell_type": "code",
   "execution_count": 232,
   "metadata": {},
   "outputs": [],
   "source": [
    "n = p = 100\n",
    "X = np.eye(n, p)\n",
    "beta = np.zeros(p)\n",
    "beta[:10] = 1\n",
    "num_simulations = 1000"
   ]
  },
  {
   "source": [
    "success = {'Cp': [], 'BIC': []}\n",
    "for i in range(num_simulations):\n",
    "    Y = X @ beta + np.random.standard_normal(p)\n",
    "    cp_model = masked_lse(X, Y, np.square(X @ Y) > 2)\n",
    "    bic_model = masked_lse(X, Y, np.square(X @ Y) > np.log(n))\n",
    "    success['Cp'].append(score(beta, cp_model))\n",
    "    success['BIC'].append(score(beta, bic_model))\n",
    "success_rate = {}\n",
    "for criterion in ('Cp', 'BIC'):\n",
    "    success_rate[criterion] = {}\n",
    "    for s in ('Dimension', 'Support', 'Estimation'):\n",
    "        success_rate[criterion][s] = np.mean([cs[s] for cs in success[criterion]])\n",
    "print('Cp\\t', success_rate['Cp'])\n",
    "print('BIC\\t', success_rate['BIC'])"
   ],
   "cell_type": "code",
   "metadata": {
    "tags": []
   },
   "execution_count": 233,
   "outputs": [
    {
     "output_type": "stream",
     "name": "stdout",
     "text": [
      "Cp\t {'Dimension': 0.024, 'Support': 0.026, 'Estimation': 0.095}\nBIC\t {'Dimension': 0.003, 'Support': 0.0, 'Estimation': 0.259}\n"
     ]
    }
   ]
  },
  {
   "cell_type": "code",
   "execution_count": 234,
   "metadata": {},
   "outputs": [],
   "source": [
    "def metropolis_hastings(X, Y, beta_0, b, K=0.01, max_iter=200):\n",
    "    p = beta_0.shape[0]\n",
    "    beta = np.empty(shape=(max_iter + 1, p))\n",
    "    beta[0, :] = np.copy(beta_0)\n",
    "    dim = np.sum(beta_0 != 0)\n",
    "    pi = 1 / (p * comb(p, dim))\n",
    "    r = np.square(norm(X @ beta_0 - Y)) + K * np.square(np.sqrt(dim) + np.sqrt(2 * np.log(1 / pi)))\n",
    "    for i in range(max_iter):\n",
    "        j = np.random.randint(p)\n",
    "        beta_new = np.copy(beta[i])\n",
    "        beta_new[j] = 1 if beta[i][j] == 0 else 0\n",
    "        dim = np.sum(beta_new != 0)\n",
    "        pi_new = 1 / (p * comb(p, dim))\n",
    "        r_new = np.square(norm(X @ beta_new - Y)) + K * np.square(np.sqrt(dim) + np.sqrt(2 * np.log(1 / pi_new)))\n",
    "        pr = (pi_new * np.exp(-b * r_new)) / (pi * np.exp(-b * r))\n",
    "        if np.random.uniform() < pr:\n",
    "            beta[i + 1] = beta_new\n",
    "            pi = pi_new\n",
    "            r = r_new\n",
    "        else:\n",
    "            beta[i + 1] = np.copy(beta[i])\n",
    "    return np.mean(beta[1:], axis=0)"
   ]
  },
  {
   "cell_type": "code",
   "execution_count": 235,
   "metadata": {},
   "outputs": [],
   "source": [
    "def estimation_error():\n",
    "    f0_error, cp_error, bic_error, mh1_error, mh3_error, mh7_error = 0, 0, 0, 0, 0, 0\n",
    "    for i in range(num_simulations):\n",
    "        Y = X @ beta + np.random.standard_normal(p)\n",
    "        f0 = np.zeros(X.shape[1])\n",
    "        cp_model = masked_lse(X, Y, np.square(X @ Y) > 2)\n",
    "        bic_model = masked_lse(X, Y, np.square(X @ Y) > np.log(n))\n",
    "        mh1_model = metropolis_hastings(X, Y, np.zeros(p), 0.1)\n",
    "        mh3_model = metropolis_hastings(X, Y, np.zeros(p), 0.3)\n",
    "        mh7_model = metropolis_hastings(X, Y, np.zeros(p), 0.7)\n",
    "        f0_error += np.square(norm(f0 - beta))\n",
    "        cp_error += np.square(norm(cp_model - beta))\n",
    "        bic_error += np.square(norm(bic_model - beta))\n",
    "        mh1_error += np.square(norm(mh1_model - beta))\n",
    "        mh3_error += np.square(norm(mh3_model - beta))\n",
    "        mh7_error += np.square(norm(mh7_model - beta))\n",
    "    f0_error /= num_simulations\n",
    "    cp_error /= num_simulations\n",
    "    bic_error /= num_simulations\n",
    "    mh1_error /= num_simulations\n",
    "    mh3_error /= num_simulations\n",
    "    mh7_error /= num_simulations\n",
    "    print(f'{\"\":10} {\"\":10} {\"\":10} {\"Metropolis Hastings Error\":30}')\n",
    "    print(f'{\"F0 Error\":10}|{\"Cp Error\":10}|{\"BIC Error\":10}|{\"b=0.1\":10}|{\"b=0.3\":10}|{\"b=0.7\":10}')\n",
    "    print(f'{f0_error:10f}|{cp_error:10f}|{bic_error:10f}|{mh1_error:10f}|{mh3_error:10f}|{mh7_error:10f}')"
   ]
  },
  {
   "cell_type": "code",
   "execution_count": 236,
   "metadata": {},
   "outputs": [
    {
     "output_type": "stream",
     "name": "stdout",
     "text": [
      "                                 Metropolis Hastings Error     \nF0 Error  |Cp Error  |BIC Error |b=0.1     |b=0.3     |b=0.7     \n 10.000000| 63.241762| 30.353245| 10.178400| 10.080962|  9.843140\n"
     ]
    }
   ],
   "source": [
    "estimation_error()"
   ]
  },
  {
   "cell_type": "code",
   "execution_count": 237,
   "metadata": {},
   "outputs": [
    {
     "output_type": "stream",
     "name": "stdout",
     "text": [
      "                                 Metropolis Hastings Error     \nF0 Error  |Cp Error  |BIC Error |b=0.1     |b=0.3     |b=0.7     \n 40.000000| 67.998300| 45.715416| 39.925855| 39.350322| 34.987817\n"
     ]
    }
   ],
   "source": [
    "beta[:10] = 2\n",
    "estimation_error()"
   ]
  }
 ]
}