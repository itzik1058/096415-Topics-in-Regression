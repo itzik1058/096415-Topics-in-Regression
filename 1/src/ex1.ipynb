{
 "cells": [
  {
   "cell_type": "code",
   "execution_count": 1,
   "metadata": {
    "collapsed": true
   },
   "outputs": [],
   "source": [
    "import numpy as np\n",
    "import statsmodels.api as sm\n",
    "import seaborn as sn\n",
    "import pandas as pd"
   ]
  },
  {
   "cell_type": "markdown",
   "source": [
    "Question 5"
   ],
   "metadata": {
    "collapsed": false,
    "pycharm": {
     "name": "#%% md\n"
    }
   }
  },
  {
   "cell_type": "code",
   "execution_count": 2,
   "outputs": [
    {
     "output_type": "stream",
     "name": "stdout",
     "text": [
      "Parameters for Normal: [1.99700749 1.00635381]\nParameters for Exp: [2.00534507 3.03224995]\n"
     ]
    }
   ],
   "source": [
    "x_normal = np.random.standard_normal(size=100000)\n",
    "x_exp = np.random.standard_exponential(size=100000) - 1\n",
    "a, b, c = 1, 1, 1\n",
    "for dist, x in [['Normal', x_normal], ['Exp', x_exp]]:\n",
    "    y = a + b * x + c * x ** 2\n",
    "    ols = sm.OLS(y, np.c_[np.ones(x.shape[0]), x])\n",
    "    ols_results = ols.fit()\n",
    "    params = ols_results.params\n",
    "    print(f'Parameters for {dist}: {params}')"
   ],
   "metadata": {
    "collapsed": false,
    "pycharm": {
     "name": "#%%\n"
    }
   }
  },
  {
   "cell_type": "markdown",
   "source": [
    "Question 6"
   ],
   "metadata": {
    "collapsed": false,
    "pycharm": {
     "name": "#%% md\n"
    }
   }
  },
  {
   "cell_type": "code",
   "execution_count": 3,
   "outputs": [
    {
     "output_type": "stream",
     "name": "stdout",
     "text": [
      "Parameters for Model 1:\ntotal_bill    0.092713\nsize          0.192598\nbias          0.668945\ndtype: float64\nParameters for Model 2:\ntotal_bill            0.082371\nsize                  0.215389\ntotal_bill_squared   -0.000411\nsize_squared         -0.046108\ninteraction           0.010965\nbias                  0.741707\ndtype: float64\n"
     ]
    }
   ],
   "source": [
    "tips = sn.load_dataset('tips')\n",
    "tips_transformed = pd.get_dummies(tips)\n",
    "y = tips_transformed[['tip']]\n",
    "x1 = tips_transformed[['total_bill', 'size']]\n",
    "x2 = x1.assign(total_bill_squared=x1['total_bill'] ** 2,\n",
    "               size_squared=x1['size'] ** 2,\n",
    "               interaction=x1['total_bill'] * x1['size'])\n",
    "for name, x in [['Model 1', x1], ['Model 2', x2]]:\n",
    "    ols = sm.OLS(y, x.assign(bias=1))\n",
    "    results = ols.fit()\n",
    "    params = results.params\n",
    "    print(f'Parameters for {name}:')\n",
    "    print(params)"
   ],
   "metadata": {
    "collapsed": false,
    "pycharm": {
     "name": "#%%\n"
    }
   }
  }
 ],
 "metadata": {
  "kernelspec": {
   "name": "pycharm-484b8de8",
   "language": "python",
   "display_name": "PyCharm (src)"
  },
  "language_info": {
   "codemirror_mode": {
    "name": "ipython",
    "version": 2
   },
   "file_extension": ".py",
   "mimetype": "text/x-python",
   "name": "python",
   "nbconvert_exporter": "python",
   "pygments_lexer": "ipython2",
   "version": "3.8.5-final"
  }
 },
 "nbformat": 4,
 "nbformat_minor": 0
}